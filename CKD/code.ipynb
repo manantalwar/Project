{
 "cells": [
  {
   "cell_type": "code",
   "execution_count": 1,
   "metadata": {},
   "outputs": [],
   "source": [
    "import numpy as np\n",
    "import pandas as pd\n",
    "import os\n",
    "import matplotlib\n",
    "import matplotlib.pyplot as plt\n",
    "import seaborn as sns\n",
    "from sklearn.model_selection import train_test_split\n",
    "from sklearn.metrics import confusion_matrix\n",
    "from sklearn.metrics import classification_report\n",
    "from sklearn.model_selection import RepeatedStratifiedKFold\n",
    "from sklearn.model_selection import cross_val_score\n",
    "from sklearn.preprocessing import StandardScaler\n",
    "from sklearn.linear_model import LogisticRegression\n",
    "from sklearn.ensemble import RandomForestClassifier\n",
    "from sklearn.metrics import f1_score"
   ]
  },
  {
   "cell_type": "code",
   "execution_count": 2,
   "metadata": {},
   "outputs": [],
   "source": [
    "%matplotlib inline\n",
    "sns.set()\n",
    "sns.set_context('talk')\n",
    "plt.rcParams[\"patch.force_edgecolor\"] = False"
   ]
  },
  {
   "cell_type": "code",
   "execution_count": 3,
   "metadata": {},
   "outputs": [],
   "source": [
    "#calculate gfr\n",
    "def gfr(seq_num, dem_data, bio_pro):\n",
    "    user_dem_data = dem_data[dem_data['SEQN'] == seq_num]\n",
    "    race = user_dem_data['RIDRETH1'].item()\n",
    "    gender = user_dem_data['RIAGENDR'].item()\n",
    "    age = user_dem_data['RIDAGEYR'].item()\n",
    "    sc = bio_pro[bio_pro['SEQN'] == seq_num]['LBXSCR'].item()\n",
    "    k = 0.7 if gender == 1 else 0.9\n",
    "    a = -0.329 if gender == 1 else -0.411\n",
    "    t = 1.159 if race == 4 else 1\n",
    "    s = 1.018 if gender == 1 else 1\n",
    "    return 141 * (min(sc/k, 1)**a) * (max(sc/k, 1)**-1.209) * (0.993**age) * s * t"
   ]
  },
  {
   "cell_type": "code",
   "execution_count": 4,
   "metadata": {},
   "outputs": [],
   "source": [
    "def load_gfr(folder):\n",
    "    bio_pro = pd.read_sas(folder + '/P_BIOPRO.XPT')\n",
    "    dem_data = pd.read_sas(folder + '/P_DEMO.XPT')\n",
    "    gfr_col = bio_pro['SEQN'].apply(lambda seqn: gfr(seqn, dem_data, bio_pro))\n",
    "    gfr_data = pd.concat([bio_pro['SEQN'],gfr_col], axis=1, join='inner')\n",
    "    gfr_data.columns = ['SEQN', 'GFR']\n",
    "    print('Number of patients with possible kidney disease: ', np.count_nonzero(gfr_col <= 60))\n",
    "    return gfr_data #add gfr to dataset"
   ]
  },
  {
   "cell_type": "code",
   "execution_count": 5,
   "metadata": {},
   "outputs": [],
   "source": [
    "#build dataset\n",
    "#folder is the data directory, single_cols is a dict which maps file names with a list of specific cols for that file (for example, from P_KIQ_U.XPT we only want KIQ022 so specific_cols = {'P_KIQ_U.XPT' : ['KIQ022']}\n",
    "def load_and_merge(folder, specific_cols=None):\n",
    "    gfr_data = load_gfr(folder)\n",
    "    data_files = [gfr_data]\n",
    "    for filename in os.listdir(folder):\n",
    "        filepath = folder + '/' + filename\n",
    "        if specific_cols and filename in specific_cols:\n",
    "            #Add SEQN to cols\n",
    "            col_names = ['SEQN']\n",
    "            col_names.extend(specific_cols[filename])\n",
    "            #Rebuild as dataframe with the correct column names (necessary for the inner join after all data files are collected)\n",
    "            data_files.append(pd.DataFrame(pd.read_sas(filepath)[col_names], columns=col_names))\n",
    "        else:\n",
    "            data_files.append(pd.read_sas(filepath))\n",
    "    #https://stackoverflow.com/questions/23668427/pandas-three-way-joining-multiple-dataframes-on-columns\n",
    "    return pd.concat(\n",
    "        (iDF.set_index('SEQN') for iDF in data_files),\n",
    "        axis=1, join='inner'\n",
    "    ).reset_index()"
   ]
  },
  {
   "cell_type": "code",
   "execution_count": 6,
   "metadata": {},
   "outputs": [
    {
     "name": "stdout",
     "output_type": "stream",
     "text": [
      "Number of patients with possible kidney disease:  1252\n",
      "Number of patients with possible kidney disease:  718\n",
      "Number of patients with possible kidney disease:  793\n",
      "Number of patients with possible kidney disease:  695\n",
      "Number of patients with possible kidney disease:  875\n"
     ]
    }
   ],
   "source": [
    "all_years = []\n",
    "for year_range in ['2017-2020', '2015-2016', '2013-2014', '2011-2012', '2009-2010']:\n",
    "    full_data = load_and_merge('data/' + year_range, {'KIQ_U.XPT' : ['KIQ022'], 'ALB_CR.XPT' : ['URDACT']})\n",
    "    all_years.append(full_data)"
   ]
  },
  {
   "cell_type": "code",
   "execution_count": 7,
   "metadata": {},
   "outputs": [],
   "source": [
    "#combine datasets into main dataset\n",
    "dataset = pd.concat(all_years)"
   ]
  },
  {
   "cell_type": "code",
   "execution_count": 8,
   "metadata": {},
   "outputs": [],
   "source": [
    "#refine features\n",
    "data = dataset[['LBXSBU', 'LBXSIR', 'LBXSTP', 'LBXTC', 'LBXSUA', 'LBXBPB', 'LBXBCD', 'LBXTHG', 'LBXBSE', 'LBXBMN', 'URXUBA', 'URXUCD', 'URXUCO', 'URXUCS', 'URXUMO', 'URXUMN', 'URXUPB', 'URXUSB', 'URXUSN', 'URXUTL', 'URXUTU', 'LBXGH', 'LBXIN', 'KIQ022', 'GFR', 'URDACT']]\n",
    "delete = data[data['KIQ022'] == 9].index\n",
    "data = data.drop(delete)\n",
    "data['TARGET'] = data.apply(lambda row: row.GFR >= 60 and row.URDACT >= 30, axis=1)\n",
    "data = data.dropna()\n",
    "data = data.drop_duplicates()"
   ]
  },
  {
   "cell_type": "code",
   "execution_count": 9,
   "metadata": {},
   "outputs": [
    {
     "data": {
      "text/plain": [
       "<AxesSubplot:xlabel='TARGET', ylabel='count'>"
      ]
     },
     "execution_count": 9,
     "metadata": {},
     "output_type": "execute_result"
    },
    {
     "data": {
      "image/png": "[encoded data removed]",
      "text/plain": [
       "<Figure size 432x288 with 1 Axes>"
      ]
     },
     "metadata": {},
     "output_type": "display_data"
    }
   ],
   "source": [
    "data['KIQ022'].value_counts()\n",
    "sns.countplot(x='TARGET', data=data)"
   ]
  },
  {
   "cell_type": "code",
   "execution_count": 10,
   "metadata": {},
   "outputs": [],
   "source": [
    "#data preprocessing\n",
    "from sklearn.preprocessing import StandardScaler\n",
    "scaler = StandardScaler()\n",
    "X = scaler.fit_transform(data.drop(['TARGET'], axis=1))\n",
    "y = data['TARGET']\n",
    "X_train, X_test, y_train, y_test = train_test_split(X, y, test_size=0.2)"
   ]
  },
  {
   "cell_type": "code",
   "execution_count": 22,
   "metadata": {},
   "outputs": [
    {
     "name": "stdout",
     "output_type": "stream",
     "text": [
      "Mean ROC AUC: 0.711\n"
     ]
    }
   ],
   "source": [
    "\n",
    "from statistics import mean\n",
    "# define evaluation procedure\n",
    "cv = RepeatedStratifiedKFold(n_splits=10, n_repeats=3)\n",
    "# define model\n",
    "model = LogisticRegression()\n",
    "# evaluate mode\n",
    "scores = cross_val_score(model, X, y, scoring='roc_auc', cv=cv, n_jobs=-1)\n",
    "# summarize performance\n",
    "print('Mean ROC AUC: %.3f' % mean(scores))\n"
   ]
  },
  {
   "cell_type": "code",
   "execution_count": 12,
   "metadata": {},
   "outputs": [
    {
     "name": "stdout",
     "output_type": "stream",
     "text": [
      "Mean ROC AUC: 0.754\n"
     ]
    }
   ],
   "source": [
    "# define model\n",
    "model = LogisticRegression(class_weight='balanced')\n",
    "# define evaluation procedure\n",
    "cv = RepeatedStratifiedKFold(n_splits=10, n_repeats=3)\n",
    "# evaluate model\n",
    "scores = cross_val_score(model, X, y, scoring='roc_auc', cv=cv, n_jobs=-1)\n",
    "# summarize performance\n",
    "print('Mean ROC AUC: %.3f' % mean(scores))"
   ]
  },
  {
   "cell_type": "code",
   "execution_count": 13,
   "metadata": {},
   "outputs": [],
   "source": [
    "#from imblearn.over_sampling import SMOTE\n",
    "#os = SMOTE(random_state=0)\n",
    "#columns = data.drop('TARGET', axis=1).columns\n",
    "#os_data_X,os_data_y=os.fit_sample(X_train, y_train)\n",
    "#os_data_X = pd.DataFrame(data=os_data_X,columns=columns )\n",
    "#os_data_y= pd.DataFrame(data=os_data_y,columns=['TARGET'])\n",
    "#X_train = os_data_X\n",
    "#y_train = os_data_y\n",
    "#sns.countplot(x='TARGET', data=y_train)"
   ]
  },
  {
   "cell_type": "code",
   "execution_count": 14,
   "metadata": {},
   "outputs": [
    {
     "name": "stdout",
     "output_type": "stream",
     "text": [
      "Best: 0.926483 using {'class_weight': {0: 1, 1: 1000000}}\n",
      "0.690267 (0.053400) with: {'class_weight': {0: 100, 1: 1}}\n",
      "0.692804 (0.053815) with: {'class_weight': {0: 10, 1: 1}}\n",
      "0.708486 (0.054631) with: {'class_weight': {0: 1, 1: 1}}\n",
      "0.770897 (0.054890) with: {'class_weight': {0: 1, 1: 10}}\n",
      "0.926483 (0.025500) with: {'class_weight': {0: 1, 1: 1000000}}\n",
      "0.694851 (0.053817) with: {'class_weight': {0: 5.5, 1: 1}}\n"
     ]
    }
   ],
   "source": [
    "from sklearn.model_selection import GridSearchCV\n",
    "# define model\n",
    "model = LogisticRegression()\n",
    "# define grid\n",
    "balance = [{0:100,1:1}, {0:10,1:1}, {0:1,1:1}, {0:1,1:10}, {0:1,1:1000000}, {0:5.5, 1:1}]\n",
    "param_grid = dict(class_weight=balance)\n",
    "# define evaluation procedure\n",
    "cv = RepeatedStratifiedKFold(n_splits=10, n_repeats=3)\n",
    "# define grid search\n",
    "grid = GridSearchCV(estimator=model, param_grid=param_grid, n_jobs=-1, cv=cv, scoring='roc_auc')\n",
    "# execute the grid search\n",
    "grid_result = grid.fit(X_train, y_train)\n",
    "# report the best configuration\n",
    "print(\"Best: %f using %s\" % (grid_result.best_score_, grid_result.best_params_))\n",
    "# report all configurations\n",
    "means = grid_result.cv_results_['mean_test_score']\n",
    "stds = grid_result.cv_results_['std_test_score']\n",
    "params = grid_result.cv_results_['params']\n",
    "for mean, stdev, param in zip(means, stds, params):\n",
    "    print(\"%f (%f) with: %r\" % (mean, stdev, param))"
   ]
  },
  {
   "cell_type": "code",
   "execution_count": 15,
   "metadata": {},
   "outputs": [
    {
     "name": "stdout",
     "output_type": "stream",
     "text": [
      "[0.90915638 0.84695615 0.90815241 0.89226006 0.92425181 0.91775026\n",
      " 0.89927761 0.89896801 0.92239422 0.92063983 0.89588477 0.91070668\n",
      " 0.87154108 0.89731682 0.89122807 0.92187822 0.93519092 0.90598555\n",
      " 0.92352941 0.94447884 0.91028807 0.93582375 0.93273734 0.92033024\n",
      " 0.91661507 0.85933953 0.87100103 0.87863777 0.90433437 0.94076367]\n"
     ]
    }
   ],
   "source": [
    "balance = {0:1,1:1000000}\n",
    "# define model\n",
    "model = LogisticRegression(class_weight=balance)\n",
    "# define evaluation procedure\n",
    "cv = RepeatedStratifiedKFold(n_splits=10, n_repeats=3)\n",
    "# evaluate model\n",
    "scores = cross_val_score(model, X, y, scoring='roc_auc', cv=cv, n_jobs=-1)\n",
    "# summarize performance\n",
    "print(scores)\n",
    "#print('Mean ROC AUC: %.3f' % mean(scores))"
   ]
  },
  {
   "cell_type": "code",
   "execution_count": 16,
   "metadata": {},
   "outputs": [
    {
     "name": "stdout",
     "output_type": "stream",
     "text": [
      "0.54413328606877\n"
     ]
    }
   ],
   "source": [
    "from sklearn.metrics import roc_auc_score\n",
    "from sklearn.ensemble import RandomForestClassifier\n",
    "balance = {0:1,1:1000000}\n",
    "# define model\n",
    "model = LogisticRegression(class_weight=balance)\n",
    "model.fit(X_train, y_train)\n",
    "y_pred = model.predict(X_train)\n",
    "print(roc_auc_score(y_pred, y_train))"
   ]
  },
  {
   "cell_type": "code",
   "execution_count": 17,
   "metadata": {},
   "outputs": [
    {
     "name": "stdout",
     "output_type": "stream",
     "text": [
      "{'alpha': 100}\n",
      "-0.075815054761927\n"
     ]
    }
   ],
   "source": [
    "from sklearn.linear_model import Ridge\n",
    "from sklearn.model_selection import GridSearchCV\n",
    " \n",
    "ridge=Ridge()\n",
    "parameters={'alpha':[1e-15,1e-10,1e-8,1e-3,1e-2,1,5,10,20,30,35,40,45,50,55,100]}\n",
    "ridge_regressor=GridSearchCV(ridge,parameters,scoring='neg_mean_squared_error',cv=5)\n",
    "ridge_regressor.fit(X_train,y_train)\n",
    "print(ridge_regressor.best_params_)\n",
    "print(ridge_regressor.best_score_)\n"
   ]
  }
 ],
 "metadata": {
  "interpreter": {
   "hash": "fc17f39e16f7e5884d1d3e2d21830fa9aa3df39865816b04234b1a8690a55400"
  },
  "kernelspec": {
   "display_name": "Python 3.9.7 ('base')",
   "language": "python",
   "name": "python3"
  },
  "language_info": {
   "codemirror_mode": {
    "name": "ipython",
    "version": 3
   },
   "file_extension": ".py",
   "mimetype": "text/x-python",
   "name": "python",
   "nbconvert_exporter": "python",
   "pygments_lexer": "ipython3",
   "version": "3.9.7"
  },
  "orig_nbformat": 4
 },
 "nbformat": 4,
 "nbformat_minor": 2
}
